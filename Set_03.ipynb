{
  "cells": [
    {
      "cell_type": "code",
      "execution_count": 55,
      "id": "b031e468",
      "metadata": {
        "id": "b031e468"
      },
      "outputs": [],
      "source": [
        "import numpy as np\n",
        "import matplotlib.pyplot as plt\n",
        "import seaborn as sns"
      ]
    },
    {
      "cell_type": "markdown",
      "id": "38f35f8c",
      "metadata": {
        "id": "38f35f8c"
      },
      "source": [
        "# Q1: Coin toss\n",
        "\n",
        "Read section 2.1 of Sivia and recreate figure 2.3."
      ]
    },
    {
      "cell_type": "markdown",
      "id": "901a6a55",
      "metadata": {
        "id": "901a6a55"
      },
      "source": [
        "## (a)\n",
        "\n",
        "Define the prior functions"
      ]
    },
    {
      "cell_type": "code",
      "execution_count": 56,
      "id": "ac224d2c",
      "metadata": {
        "id": "ac224d2c"
      },
      "outputs": [],
      "source": [
        "def uniform_prior(H):\n",
        "    if  H > 1 or H < 0:\n",
        "        return 0\n",
        "    \n",
        "    return 1\n",
        "    \n",
        "first_prior = np.vectorize(uniform_prior)\n",
        "    \n",
        "\n",
        "def gaussian_prior(H):\n",
        "    if  H > 1 or H < 0:\n",
        "        return 0\n",
        "    \n",
        "    \n",
        "    sigma = 0.03\n",
        "    mu = 0.5\n",
        "    \n",
        "    return (1/sigma*np.sqrt(2*np.pi)) * np.exp(-((H - mu) ** 2) / (2 * sigma**2))\n",
        "\n",
        "second_prior = np.vectorize(gaussian_prior)\n",
        "\n",
        "\n",
        "def third_prior(H):\n",
        "    a, b = 0.5, 0.5\n",
        "\n",
        "    return (H ** (a - 1)) * ((1 - H) ** (b - 1))\n",
        "\n",
        "\n",
        "third_prior = np.vectorize(third_prior)\n"
      ]
    },
    {
      "cell_type": "code",
      "execution_count": 57,
      "id": "e974ca55",
      "metadata": {
        "id": "e974ca55",
        "outputId": "2299834a-bee5-43a8-bd7a-eef394aafe7e",
        "colab": {
          "base_uri": "https://localhost:8080/"
        }
      },
      "outputs": [
        {
          "output_type": "execute_result",
          "data": {
            "text/plain": [
              "array(0.32301416)"
            ]
          },
          "metadata": {},
          "execution_count": 57
        }
      ],
      "source": [
        "second_prior(0.4)"
      ]
    },
    {
      "cell_type": "markdown",
      "id": "679e9a44",
      "metadata": {
        "id": "679e9a44"
      },
      "source": [
        "### Bonus point\n",
        "\n",
        "Why do we need to use np.vectorize here?"
      ]
    },
    {
      "cell_type": "markdown",
      "source": [
        "it is used for loops.when we dont want to do an operation on just one number. it helps us to do the operation on every element."
      ],
      "metadata": {
        "id": "hbjepiQJWAzB"
      },
      "id": "hbjepiQJWAzB"
    },
    {
      "cell_type": "markdown",
      "id": "cb796055",
      "metadata": {
        "id": "cb796055"
      },
      "source": [
        "## (b)\n",
        "\n",
        "Create an array for H, calculte the priors, normalize them and then plot them."
      ]
    },
    {
      "cell_type": "code",
      "execution_count": 58,
      "id": "7bd4031a",
      "metadata": {
        "id": "7bd4031a"
      },
      "outputs": [],
      "source": [
        "H = np.linspace(0, 1, 1000, dtype=np.float128)"
      ]
    },
    {
      "cell_type": "code",
      "execution_count": 59,
      "id": "2ca16052",
      "metadata": {
        "colab": {
          "base_uri": "https://localhost:8080/",
          "height": 252
        },
        "id": "2ca16052",
        "outputId": "54b5b5bd-be81-4be4-ef54-d1b3c679eca0"
      },
      "outputs": [
        {
          "output_type": "stream",
          "name": "stderr",
          "text": [
            "/usr/local/lib/python3.7/dist-packages/ipykernel_launcher.py:26: RuntimeWarning: divide by zero encountered in longdouble_scalars\n"
          ]
        },
        {
          "output_type": "display_data",
          "data": {
            "text/plain": [
              "<Figure size 1080x216 with 3 Axes>"
            ],
            "image/png": "[encoded data removed]"
          },
          "metadata": {}
        }
      ],
      "source": [
        "plt.figure(figsize=(15, 3))\n",
        "plt.suptitle('Three different priors (Normalized)')\n",
        "\n",
        "plt.xlim(0, 1)\n",
        "plt.subplot(1, 3, 1)\n",
        "plt.plot(H,first_prior(H))\n",
        "\n",
        "plt.subplot(1, 3, 2)\n",
        "plt.plot(H, second_prior(H))\n",
        "\n",
        "plt.subplot(1, 3, 3)\n",
        "plt.plot(H, third_prior(H))\n",
        "\n",
        "plt.show()"
      ]
    },
    {
      "cell_type": "markdown",
      "id": "c759449a",
      "metadata": {
        "id": "c759449a"
      },
      "source": [
        "## (c)\n",
        "\n",
        "Here we explicitly declared a data type for the array H. Although most of the times python does it for us, here was an example that we need to do it by hand to avoid round-off error. Find out what this error is and write a few lines about it (In Farsi or English) and explain what did we do to avoid it here. In other words, why did we use 'np.float128' exept just using 'float'?\n",
        "\n",
        "You can also emit the data type decleration from the definition of H and see what happens in calculating the posterior."
      ]
    },
    {
      "cell_type": "markdown",
      "id": "776585bc",
      "metadata": {
        "id": "776585bc"
      },
      "source": [
        "dar gesmat gabl ba distribution beta(third_prior) zamani ke H=0 ya H=1 be third_prior midahim agar data type ma float bashad error midahad ke nemitavan meghdar 0 ra be tavan manfi resand chon dar rabate beta ma baray H=0 ebarat H^(-0.5) ra darim va baray H=1 ma ebarat (1-H)^(-0.5) ra darim ama agar data type ma float 128 bashad in moshkel pish nemiayad. agar bekhahim in moshkel bedon estefadeh az data type float.128 pish nayayad bayad H ra mahdod konim ke 0 ya 1 nashavad balkeh nazdik be in adad bashad."
      ]
    },
    {
      "cell_type": "markdown",
      "id": "507a17d4",
      "metadata": {
        "id": "507a17d4"
      },
      "source": [
        "## (d)\n",
        "\n",
        "Write a proper function to calculate the psterior for a given data and recreate the given plot. "
      ]
    },
    {
      "cell_type": "code",
      "execution_count": 60,
      "id": "464cdb0d",
      "metadata": {
        "id": "464cdb0d"
      },
      "outputs": [],
      "source": [
        "data = [np.random.choice([0, 0, 0, 0, 0, 0, 0, 1, 1, 1], size=(i)) for i in range(4)]  \n",
        "data.extend([np.random.choice([0, 0, 0, 0, 0, 0, 0, 1, 1, 1], size=(2**i)) for i in range(2, 13)])"
      ]
    },
    {
      "cell_type": "code",
      "source": [
        "def normalize(func) :\n",
        "  for i in range(len(func)):\n",
        "    norm = func[i]=func[i]/np.max(func[i])\n",
        "\n",
        "  return norm\n"
      ],
      "metadata": {
        "id": "GShD_c_aOPDZ"
      },
      "id": "GShD_c_aOPDZ",
      "execution_count": 73,
      "outputs": []
    },
    {
      "cell_type": "code",
      "execution_count": 96,
      "id": "1e4f87bb",
      "metadata": {
        "id": "1e4f87bb"
      },
      "outputs": [],
      "source": [
        "# posterior has binomial distribution for coin toss (head or tail, in other words 0 or 1)\n",
        "prior = [first_prior, second_prior, third_prior]\n",
        "def posterior(H,data):\n",
        "    ones = np.count_nonzero(data == 1)\n",
        "    zeros = np.size(ones) - np.count_nonzero(data == 0)\n",
        "    likelihood = np.power((1-H),zeros)*np.power(H,ones)\n",
        "    new_prior = prior*likelihood\n",
        "\n",
        "    return normalize(new_prior)"
      ]
    },
    {
      "cell_type": "code",
      "source": [
        "fig, axes = plt.subplots(5, 3, figsize=(15, 15), sharey=True)\n",
        "for i in range(15):\n",
        "  graph = posterior(H,data[i])\n",
        "\n",
        "\n",
        "plt.plot(graph)    \n",
        "plt.tight_layout(h_pad=3)\n",
        "plt.show()"
      ],
      "metadata": {
        "colab": {
          "base_uri": "https://localhost:8080/",
          "height": 1000
        },
        "id": "UiS5-35UTGAz",
        "outputId": "5416f177-9686-4e18-d5ed-f348133bc849"
      },
      "id": "UiS5-35UTGAz",
      "execution_count": 97,
      "outputs": [
        {
          "output_type": "error",
          "ename": "ValueError",
          "evalue": "ignored",
          "traceback": [
            "\u001b[0;31m---------------------------------------------------------------------------\u001b[0m",
            "\u001b[0;31mValueError\u001b[0m                                Traceback (most recent call last)",
            "\u001b[0;32m<ipython-input-97-a3df926469fc>\u001b[0m in \u001b[0;36m<module>\u001b[0;34m()\u001b[0m\n\u001b[1;32m      1\u001b[0m \u001b[0mfig\u001b[0m\u001b[0;34m,\u001b[0m \u001b[0maxes\u001b[0m \u001b[0;34m=\u001b[0m \u001b[0mplt\u001b[0m\u001b[0;34m.\u001b[0m\u001b[0msubplots\u001b[0m\u001b[0;34m(\u001b[0m\u001b[0;36m5\u001b[0m\u001b[0;34m,\u001b[0m \u001b[0;36m3\u001b[0m\u001b[0;34m,\u001b[0m \u001b[0mfigsize\u001b[0m\u001b[0;34m=\u001b[0m\u001b[0;34m(\u001b[0m\u001b[0;36m15\u001b[0m\u001b[0;34m,\u001b[0m \u001b[0;36m15\u001b[0m\u001b[0;34m)\u001b[0m\u001b[0;34m,\u001b[0m \u001b[0msharey\u001b[0m\u001b[0;34m=\u001b[0m\u001b[0;32mTrue\u001b[0m\u001b[0;34m)\u001b[0m\u001b[0;34m\u001b[0m\u001b[0;34m\u001b[0m\u001b[0m\n\u001b[1;32m      2\u001b[0m \u001b[0;32mfor\u001b[0m \u001b[0mi\u001b[0m \u001b[0;32min\u001b[0m \u001b[0mrange\u001b[0m\u001b[0;34m(\u001b[0m\u001b[0;36m15\u001b[0m\u001b[0;34m)\u001b[0m\u001b[0;34m:\u001b[0m\u001b[0;34m\u001b[0m\u001b[0;34m\u001b[0m\u001b[0m\n\u001b[0;32m----> 3\u001b[0;31m   \u001b[0mgraph\u001b[0m \u001b[0;34m=\u001b[0m \u001b[0mposterior\u001b[0m\u001b[0;34m(\u001b[0m\u001b[0mH\u001b[0m\u001b[0;34m,\u001b[0m\u001b[0mdata\u001b[0m\u001b[0;34m[\u001b[0m\u001b[0mi\u001b[0m\u001b[0;34m]\u001b[0m\u001b[0;34m)\u001b[0m\u001b[0;34m\u001b[0m\u001b[0;34m\u001b[0m\u001b[0m\n\u001b[0m\u001b[1;32m      4\u001b[0m \u001b[0;34m\u001b[0m\u001b[0m\n\u001b[1;32m      5\u001b[0m \u001b[0;34m\u001b[0m\u001b[0m\n",
            "\u001b[0;32m<ipython-input-96-a0d6fd1e7f97>\u001b[0m in \u001b[0;36mposterior\u001b[0;34m(H, data)\u001b[0m\n\u001b[1;32m      5\u001b[0m     \u001b[0mzeros\u001b[0m \u001b[0;34m=\u001b[0m \u001b[0mnp\u001b[0m\u001b[0;34m.\u001b[0m\u001b[0msize\u001b[0m\u001b[0;34m(\u001b[0m\u001b[0mones\u001b[0m\u001b[0;34m)\u001b[0m \u001b[0;34m-\u001b[0m \u001b[0mnp\u001b[0m\u001b[0;34m.\u001b[0m\u001b[0mcount_nonzero\u001b[0m\u001b[0;34m(\u001b[0m\u001b[0mdata\u001b[0m \u001b[0;34m==\u001b[0m \u001b[0;36m0\u001b[0m\u001b[0;34m)\u001b[0m\u001b[0;34m\u001b[0m\u001b[0;34m\u001b[0m\u001b[0m\n\u001b[1;32m      6\u001b[0m     \u001b[0mlikelihood\u001b[0m \u001b[0;34m=\u001b[0m \u001b[0mnp\u001b[0m\u001b[0;34m.\u001b[0m\u001b[0mpower\u001b[0m\u001b[0;34m(\u001b[0m\u001b[0;34m(\u001b[0m\u001b[0;36m1\u001b[0m\u001b[0;34m-\u001b[0m\u001b[0mH\u001b[0m\u001b[0;34m)\u001b[0m\u001b[0;34m,\u001b[0m\u001b[0mzeros\u001b[0m\u001b[0;34m)\u001b[0m\u001b[0;34m*\u001b[0m\u001b[0mnp\u001b[0m\u001b[0;34m.\u001b[0m\u001b[0mpower\u001b[0m\u001b[0;34m(\u001b[0m\u001b[0mH\u001b[0m\u001b[0;34m,\u001b[0m\u001b[0mones\u001b[0m\u001b[0;34m)\u001b[0m\u001b[0;34m\u001b[0m\u001b[0;34m\u001b[0m\u001b[0m\n\u001b[0;32m----> 7\u001b[0;31m     \u001b[0mnew_prior\u001b[0m \u001b[0;34m=\u001b[0m \u001b[0mprior\u001b[0m\u001b[0;34m*\u001b[0m\u001b[0mlikelihood\u001b[0m\u001b[0;34m\u001b[0m\u001b[0;34m\u001b[0m\u001b[0m\n\u001b[0m\u001b[1;32m      8\u001b[0m \u001b[0;34m\u001b[0m\u001b[0m\n\u001b[1;32m      9\u001b[0m     \u001b[0;32mreturn\u001b[0m \u001b[0mnormalize\u001b[0m\u001b[0;34m(\u001b[0m\u001b[0mnew_prior\u001b[0m\u001b[0;34m)\u001b[0m\u001b[0;34m\u001b[0m\u001b[0;34m\u001b[0m\u001b[0m\n",
            "\u001b[0;31mValueError\u001b[0m: operands could not be broadcast together with shapes (3,) (1000,) "
          ]
        },
        {
          "output_type": "display_data",
          "data": {
            "text/plain": [
              "<Figure size 1080x1080 with 15 Axes>"
            ],
            "image/png": "[encoded data removed]"
          },
          "metadata": {}
        }
      ]
    },
    {
      "cell_type": "markdown",
      "id": "7fe4e917",
      "metadata": {
        "id": "7fe4e917"
      },
      "source": [
        "# Q2: Distributions and moments"
      ]
    },
    {
      "cell_type": "markdown",
      "id": "22528f29",
      "metadata": {
        "id": "22528f29"
      },
      "source": [
        "## (a)\n",
        "\n",
        "Write a function to calculate raw moments of a given distribution "
      ]
    },
    {
      "cell_type": "code",
      "execution_count": null,
      "id": "0ca8f424",
      "metadata": {
        "id": "0ca8f424"
      },
      "outputs": [],
      "source": [
        "def raw_moments(dist, r):\n",
        "    return np.power(dist, r).mean()"
      ]
    },
    {
      "cell_type": "markdown",
      "id": "83e7a025",
      "metadata": {
        "id": "83e7a025"
      },
      "source": [
        "## (b)\n",
        "\n",
        "Write a function to calculate central moments of a given distribution"
      ]
    },
    {
      "cell_type": "code",
      "execution_count": null,
      "id": "e95d8546",
      "metadata": {
        "id": "e95d8546"
      },
      "outputs": [],
      "source": [
        "def central_moments(dist, r):\n",
        "\n",
        "    return np.power(dist - dist.mean(), r).mean()"
      ]
    },
    {
      "cell_type": "markdown",
      "id": "c922c313",
      "metadata": {
        "id": "c922c313"
      },
      "source": [
        "## (c)\n",
        "\n",
        "Using numpy.random, create a binomial (p=0.7, n=$30$), a Poisson ($\\mu$ = 2.1) and a gaussian ($\\mu$ = 2.1, $\\sigma = 0.3$) distribution with size $10^6$ and calculate their first 3 raw and central moments"
      ]
    },
    {
      "cell_type": "code",
      "execution_count": null,
      "id": "d8a9b33d",
      "metadata": {
        "colab": {
          "base_uri": "https://localhost:8080/"
        },
        "id": "d8a9b33d",
        "outputId": "7a20a9e2-5120-42a5-a616-b1d00556a0fb"
      },
      "outputs": [
        {
          "output_type": "stream",
          "name": "stdout",
          "text": [
            "binomial\n",
            "r=1 raw moments = 20.999472 , central moments = -8.042206900427118e-16\n",
            "r=2 raw moments = 447.289566 , central moments = 6.311741721215997\n",
            "r=3 raw moments = 9655.421586 , central moments = -2.509618200966409\n",
            " *  *  *  *  *  *  *  *  *  *  *  *  *  *  *  *  *  *  *  *  *  *  *  *  *  *  *  *  *  * \n",
            "poisson\n",
            "r=1 raw moments = 2.101119 , central moments = -2.6862778668146347e-16\n",
            "r=2 raw moments = 6.509539 , central moments = 2.094837947839\n",
            "r=3 raw moments = 24.564543 , central moments = 2.0842192976079357\n",
            " *  *  *  *  *  *  *  *  *  *  *  *  *  *  *  *  *  *  *  *  *  *  *  *  *  *  *  *  *  * \n",
            "gaussian\n",
            "r=1 raw moments = 2.0998857342876716 , central moments = -3.7485392567759844e-16\n",
            "r=2 raw moments = 4.499246939469267 , central moments = 0.08972684240439334\n",
            "r=3 raw moments = 9.82467345947618 , central moments = -6.323644812434915e-05\n"
          ]
        }
      ],
      "source": [
        "binomial = np.random.binomial(30, 0.7, size=10 ** 6)\n",
        "poisson = np.random.poisson(2.1, size=10 ** 6)\n",
        "gaussian = np.random.normal(2.1, 0.3, 10**6)\n",
        "\n",
        "print('binomial')\n",
        "for r in range(1, 4):\n",
        "    print(f\"r={r} raw moments = {raw_moments(binomial, r)} , central moments = {central_moments(binomial, r)}\")\n",
        "\n",
        "print(\" * \" * 30)\n",
        "print('poisson')\n",
        "for r in range(1, 4):\n",
        "    print(f\"r={r} raw moments = {raw_moments(poisson, r)} , central moments = {central_moments(poisson, r)}\")\n",
        "\n",
        "print(\" * \" * 30)\n",
        "print('gaussian')\n",
        "for r in range(1, 4):\n",
        "    print(f\"r={r} raw moments = {raw_moments(gaussian, r)} , central moments = {central_moments(gaussian, r)}\")\n",
        "\n",
        "    "
      ]
    },
    {
      "cell_type": "markdown",
      "id": "0612b1f0",
      "metadata": {
        "id": "0612b1f0"
      },
      "source": [
        "## (d)\n",
        "\n",
        "Using scipy.stats, calculate the first three moments of these distributions and check with the results from your own function. What does the function in scipy calculate? Raw moments or central moments?"
      ]
    },
    {
      "cell_type": "code",
      "execution_count": null,
      "id": "a6afb3bc",
      "metadata": {
        "id": "a6afb3bc"
      },
      "outputs": [],
      "source": [
        "from scipy import stats"
      ]
    },
    {
      "cell_type": "code",
      "execution_count": null,
      "id": "3bc32c61",
      "metadata": {
        "colab": {
          "base_uri": "https://localhost:8080/"
        },
        "id": "3bc32c61",
        "outputId": "642de9b5-14db-49d7-d5f5-e61055873c18"
      },
      "outputs": [
        {
          "output_type": "stream",
          "name": "stdout",
          "text": [
            "binomial\n",
            "r=1 moment = 0.0\n",
            "r=2 moment = 6.311741721215997\n",
            "r=3 moment = -2.509618200966409\n",
            " *  *  *  *  *  *  *  *  *  *  *  *  *  *  *  *  *  *  *  *  *  *  *  *  *  *  *  *  *  * \n",
            "poisson\n",
            "r=1 moment = 0.0\n",
            "r=2 moment = 2.094837947839\n",
            "r=3 moment = 2.0842192976079357\n",
            " *  *  *  *  *  *  *  *  *  *  *  *  *  *  *  *  *  *  *  *  *  *  *  *  *  *  *  *  *  * \n",
            "gaussian\n",
            "r=1  moment = 0.0\n",
            "r=2  moment = 0.08972684240439334\n",
            "r=3  moment = -6.32364481243491e-05\n"
          ]
        }
      ],
      "source": [
        "print('binomial')\n",
        "for r in range(1, 4):\n",
        "    print(f\"r={r} moment = {stats.moment(binomial, r)}\")\n",
        "\n",
        "print(\" * \" * 30)\n",
        "print('poisson')\n",
        "for r in range(1, 4):\n",
        "    print(f\"r={r} moment = {stats.moment(poisson, r)}\")\n",
        "\n",
        "print(\" * \" * 30)\n",
        "print('gaussian')\n",
        "for r in range(1, 4):\n",
        "    print(f\"r={r}  moment = {stats.moment(gaussian, r)}\")\n",
        "\n",
        "\n",
        "    "
      ]
    },
    {
      "cell_type": "markdown",
      "id": "6a6e1b2a",
      "metadata": {
        "id": "6a6e1b2a"
      },
      "source": [
        "# Q3: Radioactive decay"
      ]
    },
    {
      "cell_type": "markdown",
      "id": "59bad283",
      "metadata": {
        "id": "59bad283"
      },
      "source": [
        "The Poisson distribution is often used to describe situations in which an event occurs repeatedly at a constant rate of probability. An application of this distribution involves the decay of radioactive samples, but only in the approximation that the decay rate is slow enough that depletion in the population of the decaying species can be neglected.\n",
        "\n",
        "Now suppose we have a data set showing the number of $\\alpha$ particles emmited in 7.5 sec intervals:"
      ]
    },
    {
      "cell_type": "markdown",
      "id": "240168cb",
      "metadata": {
        "id": "240168cb"
      },
      "source": [
        "## (a)\n",
        "\n",
        "Load the provided data into a pandas data frame and show the data and then plot it's PDF."
      ]
    },
    {
      "cell_type": "code",
      "execution_count": null,
      "id": "68594456",
      "metadata": {
        "id": "68594456"
      },
      "outputs": [],
      "source": [
        "from pandas import DataFrame, read_csv\n",
        "import pandas as pd"
      ]
    },
    {
      "cell_type": "code",
      "execution_count": null,
      "id": "c80b7a07",
      "metadata": {
        "id": "c80b7a07",
        "outputId": "d194e335-83c5-4f6c-9a08-cd91e9d980d4",
        "colab": {
          "base_uri": "https://localhost:8080/",
          "height": 423
        }
      },
      "outputs": [
        {
          "output_type": "execute_result",
          "data": {
            "text/plain": [
              "      # time passed  number of events\n",
              "0               7.5             232.0\n",
              "1              15.0             240.0\n",
              "2              22.5             245.0\n",
              "3              30.0             226.0\n",
              "4              37.5             223.0\n",
              "...             ...               ...\n",
              "2043        15330.0             265.0\n",
              "2044        15337.5             220.0\n",
              "2045        15345.0             252.0\n",
              "2046        15352.5             229.0\n",
              "2047        15360.0             214.0\n",
              "\n",
              "[2048 rows x 2 columns]"
            ],
            "text/html": [
              "\n",
              "  <div id=\"df-34f0f558-24dd-4e6c-b526-564dcc87949a\">\n",
              "    <div class=\"colab-df-container\">\n",
              "      <div>\n",
              "<style scoped>\n",
              "    .dataframe tbody tr th:only-of-type {\n",
              "        vertical-align: middle;\n",
              "    }\n",
              "\n",
              "    .dataframe tbody tr th {\n",
              "        vertical-align: top;\n",
              "    }\n",
              "\n",
              "    .dataframe thead th {\n",
              "        text-align: right;\n",
              "    }\n",
              "</style>\n",
              "<table border=\"1\" class=\"dataframe\">\n",
              "  <thead>\n",
              "    <tr style=\"text-align: right;\">\n",
              "      <th></th>\n",
              "      <th># time passed</th>\n",
              "      <th>number of events</th>\n",
              "    </tr>\n",
              "  </thead>\n",
              "  <tbody>\n",
              "    <tr>\n",
              "      <th>0</th>\n",
              "      <td>7.5</td>\n",
              "      <td>232.0</td>\n",
              "    </tr>\n",
              "    <tr>\n",
              "      <th>1</th>\n",
              "      <td>15.0</td>\n",
              "      <td>240.0</td>\n",
              "    </tr>\n",
              "    <tr>\n",
              "      <th>2</th>\n",
              "      <td>22.5</td>\n",
              "      <td>245.0</td>\n",
              "    </tr>\n",
              "    <tr>\n",
              "      <th>3</th>\n",
              "      <td>30.0</td>\n",
              "      <td>226.0</td>\n",
              "    </tr>\n",
              "    <tr>\n",
              "      <th>4</th>\n",
              "      <td>37.5</td>\n",
              "      <td>223.0</td>\n",
              "    </tr>\n",
              "    <tr>\n",
              "      <th>...</th>\n",
              "      <td>...</td>\n",
              "      <td>...</td>\n",
              "    </tr>\n",
              "    <tr>\n",
              "      <th>2043</th>\n",
              "      <td>15330.0</td>\n",
              "      <td>265.0</td>\n",
              "    </tr>\n",
              "    <tr>\n",
              "      <th>2044</th>\n",
              "      <td>15337.5</td>\n",
              "      <td>220.0</td>\n",
              "    </tr>\n",
              "    <tr>\n",
              "      <th>2045</th>\n",
              "      <td>15345.0</td>\n",
              "      <td>252.0</td>\n",
              "    </tr>\n",
              "    <tr>\n",
              "      <th>2046</th>\n",
              "      <td>15352.5</td>\n",
              "      <td>229.0</td>\n",
              "    </tr>\n",
              "    <tr>\n",
              "      <th>2047</th>\n",
              "      <td>15360.0</td>\n",
              "      <td>214.0</td>\n",
              "    </tr>\n",
              "  </tbody>\n",
              "</table>\n",
              "<p>2048 rows × 2 columns</p>\n",
              "</div>\n",
              "      <button class=\"colab-df-convert\" onclick=\"convertToInteractive('df-34f0f558-24dd-4e6c-b526-564dcc87949a')\"\n",
              "              title=\"Convert this dataframe to an interactive table.\"\n",
              "              style=\"display:none;\">\n",
              "        \n",
              "  <svg xmlns=\"http://www.w3.org/2000/svg\" height=\"24px\"viewBox=\"0 0 24 24\"\n",
              "       width=\"24px\">\n",
              "    <path d=\"M0 0h24v24H0V0z\" fill=\"none\"/>\n",
              "    <path d=\"M18.56 5.44l.94 2.06.94-2.06 2.06-.94-2.06-.94-.94-2.06-.94 2.06-2.06.94zm-11 1L8.5 8.5l.94-2.06 2.06-.94-2.06-.94L8.5 2.5l-.94 2.06-2.06.94zm10 10l.94 2.06.94-2.06 2.06-.94-2.06-.94-.94-2.06-.94 2.06-2.06.94z\"/><path d=\"M17.41 7.96l-1.37-1.37c-.4-.4-.92-.59-1.43-.59-.52 0-1.04.2-1.43.59L10.3 9.45l-7.72 7.72c-.78.78-.78 2.05 0 2.83L4 21.41c.39.39.9.59 1.41.59.51 0 1.02-.2 1.41-.59l7.78-7.78 2.81-2.81c.8-.78.8-2.07 0-2.86zM5.41 20L4 18.59l7.72-7.72 1.47 1.35L5.41 20z\"/>\n",
              "  </svg>\n",
              "      </button>\n",
              "      \n",
              "  <style>\n",
              "    .colab-df-container {\n",
              "      display:flex;\n",
              "      flex-wrap:wrap;\n",
              "      gap: 12px;\n",
              "    }\n",
              "\n",
              "    .colab-df-convert {\n",
              "      background-color: #E8F0FE;\n",
              "      border: none;\n",
              "      border-radius: 50%;\n",
              "      cursor: pointer;\n",
              "      display: none;\n",
              "      fill: #1967D2;\n",
              "      height: 32px;\n",
              "      padding: 0 0 0 0;\n",
              "      width: 32px;\n",
              "    }\n",
              "\n",
              "    .colab-df-convert:hover {\n",
              "      background-color: #E2EBFA;\n",
              "      box-shadow: 0px 1px 2px rgba(60, 64, 67, 0.3), 0px 1px 3px 1px rgba(60, 64, 67, 0.15);\n",
              "      fill: #174EA6;\n",
              "    }\n",
              "\n",
              "    [theme=dark] .colab-df-convert {\n",
              "      background-color: #3B4455;\n",
              "      fill: #D2E3FC;\n",
              "    }\n",
              "\n",
              "    [theme=dark] .colab-df-convert:hover {\n",
              "      background-color: #434B5C;\n",
              "      box-shadow: 0px 1px 3px 1px rgba(0, 0, 0, 0.15);\n",
              "      filter: drop-shadow(0px 1px 2px rgba(0, 0, 0, 0.3));\n",
              "      fill: #FFFFFF;\n",
              "    }\n",
              "  </style>\n",
              "\n",
              "      <script>\n",
              "        const buttonEl =\n",
              "          document.querySelector('#df-34f0f558-24dd-4e6c-b526-564dcc87949a button.colab-df-convert');\n",
              "        buttonEl.style.display =\n",
              "          google.colab.kernel.accessAllowed ? 'block' : 'none';\n",
              "\n",
              "        async function convertToInteractive(key) {\n",
              "          const element = document.querySelector('#df-34f0f558-24dd-4e6c-b526-564dcc87949a');\n",
              "          const dataTable =\n",
              "            await google.colab.kernel.invokeFunction('convertToInteractive',\n",
              "                                                     [key], {});\n",
              "          if (!dataTable) return;\n",
              "\n",
              "          const docLinkHtml = 'Like what you see? Visit the ' +\n",
              "            '<a target=\"_blank\" href=https://colab.research.google.com/notebooks/data_table.ipynb>data table notebook</a>'\n",
              "            + ' to learn more about interactive tables.';\n",
              "          element.innerHTML = '';\n",
              "          dataTable['output_type'] = 'display_data';\n",
              "          await google.colab.output.renderOutput(dataTable, element);\n",
              "          const docLink = document.createElement('div');\n",
              "          docLink.innerHTML = docLinkHtml;\n",
              "          element.appendChild(docLink);\n",
              "        }\n",
              "      </script>\n",
              "    </div>\n",
              "  </div>\n",
              "  "
            ]
          },
          "metadata": {},
          "execution_count": 22
        }
      ],
      "source": [
        "link = 'https://raw.githubusercontent.com/SBUDataAnalysis/hw3-saraghl/main/data.txt'\n",
        "data =  pd.read_csv(link, encoding='latin-1',delimiter=\"\\t\")\n",
        "data"
      ]
    },
    {
      "cell_type": "code",
      "source": [
        "sns.set_theme()\n",
        "sns.histplot(data.iloc[:,1], kde = True, color = 'purple');"
      ],
      "metadata": {
        "colab": {
          "base_uri": "https://localhost:8080/",
          "height": 285
        },
        "id": "BXOCth0SR0I4",
        "outputId": "b4aa5650-5a4b-4e9f-b79b-aa5aa7e595a0"
      },
      "id": "BXOCth0SR0I4",
      "execution_count": 30,
      "outputs": [
        {
          "output_type": "display_data",
          "data": {
            "text/plain": [
              "<Figure size 432x288 with 1 Axes>"
            ],
            "image/png": "[encoded data removed]"
          },
          "metadata": {}
        }
      ]
    },
    {
      "cell_type": "markdown",
      "id": "2a2aa787",
      "metadata": {
        "id": "2a2aa787"
      },
      "source": [
        "## (b)\n",
        "\n",
        "Calculate total number of decays and the average number of decays after each time interval. Then add the data to the Pandas DataFrame and show it. Then save the data to file 'new_data.txt'."
      ]
    },
    {
      "cell_type": "code",
      "execution_count": null,
      "id": "0740a45a",
      "metadata": {
        "id": "0740a45a",
        "colab": {
          "base_uri": "https://localhost:8080/",
          "height": 423
        },
        "outputId": "7658f438-9498-41b0-c22a-d85746126e6b"
      },
      "outputs": [
        {
          "output_type": "execute_result",
          "data": {
            "text/plain": [
              "      total number of decays  average number of decays\n",
              "0                      232.0                232.000000\n",
              "1                      472.0                236.000000\n",
              "2                      717.0                239.000000\n",
              "3                      943.0                235.750000\n",
              "4                     1166.0                233.200000\n",
              "...                      ...                       ...\n",
              "2043                484278.0                236.926614\n",
              "2044                484498.0                236.918337\n",
              "2045                484750.0                236.925709\n",
              "2046                484979.0                236.921837\n",
              "2047                485193.0                236.910645\n",
              "\n",
              "[2048 rows x 2 columns]"
            ],
            "text/html": [
              "\n",
              "  <div id=\"df-c115a2be-5650-4ad9-b59a-7f229349b72c\">\n",
              "    <div class=\"colab-df-container\">\n",
              "      <div>\n",
              "<style scoped>\n",
              "    .dataframe tbody tr th:only-of-type {\n",
              "        vertical-align: middle;\n",
              "    }\n",
              "\n",
              "    .dataframe tbody tr th {\n",
              "        vertical-align: top;\n",
              "    }\n",
              "\n",
              "    .dataframe thead th {\n",
              "        text-align: right;\n",
              "    }\n",
              "</style>\n",
              "<table border=\"1\" class=\"dataframe\">\n",
              "  <thead>\n",
              "    <tr style=\"text-align: right;\">\n",
              "      <th></th>\n",
              "      <th>total number of decays</th>\n",
              "      <th>average number of decays</th>\n",
              "    </tr>\n",
              "  </thead>\n",
              "  <tbody>\n",
              "    <tr>\n",
              "      <th>0</th>\n",
              "      <td>232.0</td>\n",
              "      <td>232.000000</td>\n",
              "    </tr>\n",
              "    <tr>\n",
              "      <th>1</th>\n",
              "      <td>472.0</td>\n",
              "      <td>236.000000</td>\n",
              "    </tr>\n",
              "    <tr>\n",
              "      <th>2</th>\n",
              "      <td>717.0</td>\n",
              "      <td>239.000000</td>\n",
              "    </tr>\n",
              "    <tr>\n",
              "      <th>3</th>\n",
              "      <td>943.0</td>\n",
              "      <td>235.750000</td>\n",
              "    </tr>\n",
              "    <tr>\n",
              "      <th>4</th>\n",
              "      <td>1166.0</td>\n",
              "      <td>233.200000</td>\n",
              "    </tr>\n",
              "    <tr>\n",
              "      <th>...</th>\n",
              "      <td>...</td>\n",
              "      <td>...</td>\n",
              "    </tr>\n",
              "    <tr>\n",
              "      <th>2043</th>\n",
              "      <td>484278.0</td>\n",
              "      <td>236.926614</td>\n",
              "    </tr>\n",
              "    <tr>\n",
              "      <th>2044</th>\n",
              "      <td>484498.0</td>\n",
              "      <td>236.918337</td>\n",
              "    </tr>\n",
              "    <tr>\n",
              "      <th>2045</th>\n",
              "      <td>484750.0</td>\n",
              "      <td>236.925709</td>\n",
              "    </tr>\n",
              "    <tr>\n",
              "      <th>2046</th>\n",
              "      <td>484979.0</td>\n",
              "      <td>236.921837</td>\n",
              "    </tr>\n",
              "    <tr>\n",
              "      <th>2047</th>\n",
              "      <td>485193.0</td>\n",
              "      <td>236.910645</td>\n",
              "    </tr>\n",
              "  </tbody>\n",
              "</table>\n",
              "<p>2048 rows × 2 columns</p>\n",
              "</div>\n",
              "      <button class=\"colab-df-convert\" onclick=\"convertToInteractive('df-c115a2be-5650-4ad9-b59a-7f229349b72c')\"\n",
              "              title=\"Convert this dataframe to an interactive table.\"\n",
              "              style=\"display:none;\">\n",
              "        \n",
              "  <svg xmlns=\"http://www.w3.org/2000/svg\" height=\"24px\"viewBox=\"0 0 24 24\"\n",
              "       width=\"24px\">\n",
              "    <path d=\"M0 0h24v24H0V0z\" fill=\"none\"/>\n",
              "    <path d=\"M18.56 5.44l.94 2.06.94-2.06 2.06-.94-2.06-.94-.94-2.06-.94 2.06-2.06.94zm-11 1L8.5 8.5l.94-2.06 2.06-.94-2.06-.94L8.5 2.5l-.94 2.06-2.06.94zm10 10l.94 2.06.94-2.06 2.06-.94-2.06-.94-.94-2.06-.94 2.06-2.06.94z\"/><path d=\"M17.41 7.96l-1.37-1.37c-.4-.4-.92-.59-1.43-.59-.52 0-1.04.2-1.43.59L10.3 9.45l-7.72 7.72c-.78.78-.78 2.05 0 2.83L4 21.41c.39.39.9.59 1.41.59.51 0 1.02-.2 1.41-.59l7.78-7.78 2.81-2.81c.8-.78.8-2.07 0-2.86zM5.41 20L4 18.59l7.72-7.72 1.47 1.35L5.41 20z\"/>\n",
              "  </svg>\n",
              "      </button>\n",
              "      \n",
              "  <style>\n",
              "    .colab-df-container {\n",
              "      display:flex;\n",
              "      flex-wrap:wrap;\n",
              "      gap: 12px;\n",
              "    }\n",
              "\n",
              "    .colab-df-convert {\n",
              "      background-color: #E8F0FE;\n",
              "      border: none;\n",
              "      border-radius: 50%;\n",
              "      cursor: pointer;\n",
              "      display: none;\n",
              "      fill: #1967D2;\n",
              "      height: 32px;\n",
              "      padding: 0 0 0 0;\n",
              "      width: 32px;\n",
              "    }\n",
              "\n",
              "    .colab-df-convert:hover {\n",
              "      background-color: #E2EBFA;\n",
              "      box-shadow: 0px 1px 2px rgba(60, 64, 67, 0.3), 0px 1px 3px 1px rgba(60, 64, 67, 0.15);\n",
              "      fill: #174EA6;\n",
              "    }\n",
              "\n",
              "    [theme=dark] .colab-df-convert {\n",
              "      background-color: #3B4455;\n",
              "      fill: #D2E3FC;\n",
              "    }\n",
              "\n",
              "    [theme=dark] .colab-df-convert:hover {\n",
              "      background-color: #434B5C;\n",
              "      box-shadow: 0px 1px 3px 1px rgba(0, 0, 0, 0.15);\n",
              "      filter: drop-shadow(0px 1px 2px rgba(0, 0, 0, 0.3));\n",
              "      fill: #FFFFFF;\n",
              "    }\n",
              "  </style>\n",
              "\n",
              "      <script>\n",
              "        const buttonEl =\n",
              "          document.querySelector('#df-c115a2be-5650-4ad9-b59a-7f229349b72c button.colab-df-convert');\n",
              "        buttonEl.style.display =\n",
              "          google.colab.kernel.accessAllowed ? 'block' : 'none';\n",
              "\n",
              "        async function convertToInteractive(key) {\n",
              "          const element = document.querySelector('#df-c115a2be-5650-4ad9-b59a-7f229349b72c');\n",
              "          const dataTable =\n",
              "            await google.colab.kernel.invokeFunction('convertToInteractive',\n",
              "                                                     [key], {});\n",
              "          if (!dataTable) return;\n",
              "\n",
              "          const docLinkHtml = 'Like what you see? Visit the ' +\n",
              "            '<a target=\"_blank\" href=https://colab.research.google.com/notebooks/data_table.ipynb>data table notebook</a>'\n",
              "            + ' to learn more about interactive tables.';\n",
              "          element.innerHTML = '';\n",
              "          dataTable['output_type'] = 'display_data';\n",
              "          await google.colab.output.renderOutput(dataTable, element);\n",
              "          const docLink = document.createElement('div');\n",
              "          docLink.innerHTML = docLinkHtml;\n",
              "          element.appendChild(docLink);\n",
              "        }\n",
              "      </script>\n",
              "    </div>\n",
              "  </div>\n",
              "  "
            ]
          },
          "metadata": {},
          "execution_count": 23
        }
      ],
      "source": [
        "sum_decays, avgs_decays = [], []\n",
        "for i in range(1, len(data)+1):\n",
        "    sum_decays.append(data.iloc[:i]['number of events'].sum())\n",
        "    avgs_decays.append(data.iloc[:i]['number of events'].mean())\n",
        "\n",
        "new_data = DataFrame({\n",
        "    'total number of decays': sum_decays,\n",
        "    'average number of decays': avgs_decays\n",
        "})\n",
        "new_data.to_csv('new_data.txt', index=False)\n",
        "new_data"
      ]
    },
    {
      "cell_type": "markdown",
      "id": "ee6121a6",
      "metadata": {
        "id": "ee6121a6"
      },
      "source": [
        "## (c)\n",
        "\n",
        "Use a unifor prior and do the same analysis as question 1 to get the mean decay number per interval. Plot the diagrams as well. (Beware that this time we have a Poisson distribution rather than a binomial one)"
      ]
    },
    {
      "cell_type": "code",
      "execution_count": null,
      "id": "83017207",
      "metadata": {
        "id": "83017207"
      },
      "outputs": [],
      "source": [
        ""
      ]
    },
    {
      "cell_type": "markdown",
      "id": "bba68702",
      "metadata": {
        "id": "bba68702"
      },
      "source": [
        "## (d)\n",
        "\n",
        "Use two different priors of your choise and repeat the analysis. Which of these three priors leads to an answer sooner?"
      ]
    },
    {
      "cell_type": "code",
      "execution_count": null,
      "id": "00b2f202",
      "metadata": {
        "id": "00b2f202"
      },
      "outputs": [],
      "source": [
        ""
      ]
    },
    {
      "cell_type": "markdown",
      "id": "6509b5b9",
      "metadata": {
        "id": "6509b5b9"
      },
      "source": [
        "## (e)\n",
        "\n",
        "Now that you have the average decay per time interval, calculate the half life of this radioactive element (Suppose that the sample is large enough not to lose a noticable fraction of the particles in the span of the experiment). Can find out what this element is?"
      ]
    },
    {
      "cell_type": "code",
      "execution_count": null,
      "id": "b5162aec",
      "metadata": {
        "id": "b5162aec"
      },
      "outputs": [],
      "source": [
        ""
      ]
    },
    {
      "cell_type": "markdown",
      "id": "21e7e952",
      "metadata": {
        "id": "21e7e952"
      },
      "source": [
        "# Bonus question\n",
        "\n",
        "Do an error analysis and report how sure are you about the number you derived for the half life of the element."
      ]
    },
    {
      "cell_type": "code",
      "execution_count": null,
      "id": "6ea6cd7a",
      "metadata": {
        "id": "6ea6cd7a"
      },
      "outputs": [],
      "source": [
        ""
      ]
    }
  ],
  "metadata": {
    "colab": {
      "name": "Set_03.ipynb",
      "provenance": [],
      "collapsed_sections": []
    },
    "kernelspec": {
      "display_name": "Python 3 (ipykernel)",
      "language": "python",
      "name": "python3"
    },
    "language_info": {
      "codemirror_mode": {
        "name": "ipython",
        "version": 3
      },
      "file_extension": ".py",
      "mimetype": "text/x-python",
      "name": "python",
      "nbconvert_exporter": "python",
      "pygments_lexer": "ipython3",
      "version": "3.8.12"
    }
  },
  "nbformat": 4,
  "nbformat_minor": 5
}